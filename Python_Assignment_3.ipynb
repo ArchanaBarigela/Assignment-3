{
  "nbformat": 4,
  "nbformat_minor": 0,
  "metadata": {
    "colab": {
      "name": "Python Assignment 3",
      "provenance": [],
      "authorship_tag": "ABX9TyP5mS+xosoWpSCVq3PnNVid",
      "include_colab_link": true
    },
    "kernelspec": {
      "name": "python3",
      "display_name": "Python 3"
    }
  },
  "cells": [
    {
      "cell_type": "markdown",
      "metadata": {
        "id": "view-in-github",
        "colab_type": "text"
      },
      "source": [
        "<a href=\"https://colab.research.google.com/github/ArchanaBarigela/Assignment-3/blob/master/Python_Assignment_3.ipynb\" target=\"_parent\"><img src=\"https://colab.research.google.com/assets/colab-badge.svg\" alt=\"Open In Colab\"/></a>"
      ]
    },
    {
      "cell_type": "code",
      "metadata": {
        "id": "UlfG38Vcn5Xj",
        "colab_type": "code",
        "colab": {
          "base_uri": "https://localhost:8080/",
          "height": 85
        },
        "outputId": "f43e4d3c-653d-487f-c030-8a6eb79a6dee"
      },
      "source": [
        " \n",
        "#question 1\n",
        "a=float(input(\"Enter first side value \"))\n",
        "b=float(input(\"Enter second side value \"))\n",
        "c=float(input(\"Enter third side value \"))\n",
        "s=(a+b+c)/2\n",
        "A=(s*(s-a)*(s-b)*(s-c)**0.5)\n",
        "print('Area= ',A)"
      ],
      "execution_count": null,
      "outputs": [
        {
          "output_type": "stream",
          "text": [
            "Enter first side value 2\n",
            "Enter second side value 4\n",
            "Enter third side value 5\n",
            "Area=  20.41770830676156\n"
          ],
          "name": "stdout"
        }
      ]
    },
    {
      "cell_type": "code",
      "metadata": {
        "id": "4mWm8TnSoHR-",
        "colab_type": "code",
        "colab": {
          "base_uri": "https://localhost:8080/",
          "height": 34
        },
        "outputId": "b1f3b312-406a-458e-c4c5-36ddfc76a16a"
      },
      "source": [
        " my_str='madam'\n",
        "rev_str=reversed(my_str)\n",
        "if list(my_str)==list(rev_str):\n",
        "     print(\"palindrome\")\n",
        "else:\n",
        "     print(\"not a palindrome\")"
      ],
      "execution_count": null,
      "outputs": [
        {
          "output_type": "stream",
          "text": [
            "palindrome\n"
          ],
          "name": "stdout"
        }
      ]
    },
    {
      "cell_type": "code",
      "metadata": {
        "id": "cPXcLXXwojhq",
        "colab_type": "code",
        "colab": {
          "base_uri": "https://localhost:8080/",
          "height": 51
        },
        "outputId": "c50b2656-9d57-45a9-c40c-53e5e626da56"
      },
      "source": [
        " #question 3\n",
        "year=int(input(\"Enter year: \"))\n",
        "if year%4==0:\n",
        "    print(\"leap year\")\n",
        "else:\n",
        "    print(\"not a leap year\")"
      ],
      "execution_count": null,
      "outputs": [
        {
          "output_type": "stream",
          "text": [
            "Enter year: 2020\n",
            "leap year\n"
          ],
          "name": "stdout"
        }
      ]
    },
    {
      "cell_type": "code",
      "metadata": {
        "id": "jvtn5OYtqNY7",
        "colab_type": "code",
        "colab": {
          "base_uri": "https://localhost:8080/",
          "height": 52
        },
        "outputId": "c001a86e-3cae-477a-db3e-61ae8e6a93be"
      },
      "source": [
        " #question 4\n",
        "sen1=\"This program converts spaces into hypen\"\n",
        "sen2=sen1.replace(' ','-')\n",
        "sen2"
      ],
      "execution_count": null,
      "outputs": [
        {
          "output_type": "execute_result",
          "data": {
            "application/vnd.google.colaboratory.intrinsic": {
              "type": "string"
            },
            "text/plain": [
              "'This-program-converts-spaces-into-hypen'"
            ]
          },
          "metadata": {
            "tags": []
          },
          "execution_count": 12
        }
      ]
    },
    {
      "cell_type": "code",
      "metadata": {
        "id": "lEd9u4Jtp5a6",
        "colab_type": "code",
        "colab": {
          "base_uri": "https://localhost:8080/",
          "height": 54
        },
        "outputId": "7ade45f6-c6da-4e4c-ce45-4e6d43c723e9"
      },
      "source": [
        " #question 5\n",
        "my_list=\"orange\",\"red\",\"cyan\",\"green\",\"mangeta\",\"pink\",\"white\"\n",
        "my_list=sorted(my_list)\n",
        "print(my_list)"
      ],
      "execution_count": null,
      "outputs": [
        {
          "output_type": "stream",
          "text": [
            "['cyan', 'green', 'mangeta', 'orange', 'pink', 'red', 'white']\n"
          ],
          "name": "stdout"
        }
      ]
    },
    {
      "cell_type": "code",
      "metadata": {
        "id": "JWneDrNjpLDb",
        "colab_type": "code",
        "colab": {
          "base_uri": "https://localhost:8080/",
          "height": 51
        },
        "outputId": "14d9cd51-3621-4d7b-f791-987a4dd22e2a"
      },
      "source": [
        " #question 6\n",
        "salary = int(input(\"Enter total salary\"))\n",
        "if salary <= 250000 :\n",
        "   print(\"no tax\")\n",
        "elif 250001 <= salary<=500000 :\n",
        "   print(\"tax = \",salary*.05)\n",
        "elif 500001 <= salary <=750000 :\n",
        "   print(\"tax = \",salary*.10)\n",
        "elif 750001 <= salary <=1000000 :\n",
        "   print(\"tax = \",salary*.15)\n",
        "elif 1000001 <= salaryb<=1250000 :\n",
        "   print(\"tax = \", salary*.20)\n",
        "elif 1250001 <= salary <=1500000 :\n",
        "   print(\"tax= \",salary*.25)\n",
        "else :\n",
        "   print(\"tax= \",salary*.30)"
      ],
      "execution_count": null,
      "outputs": [
        {
          "output_type": "stream",
          "text": [
            "Enter total salary750000\n",
            "tax =  75000.0\n"
          ],
          "name": "stdout"
        }
      ]
    },
    {
      "cell_type": "code",
      "metadata": {
        "id": "clgZBi5FqWca",
        "colab_type": "code",
        "colab": {
          "base_uri": "https://localhost:8080/",
          "height": 85
        },
        "outputId": "38b3bc73-b616-464f-d3db-94485ca49aa5"
      },
      "source": [
        " \n",
        "#question 7\n",
        "l=(input(\"Enter first integer \"))\n",
        "m=(input(\"Enter second integer \"))\n",
        "n=(input(\"Enter third integer \"))\n",
        "print(l+m+n)"
      ],
      "execution_count": null,
      "outputs": [
        {
          "output_type": "stream",
          "text": [
            "Enter first integer 22\n",
            "Enter second integer 33\n",
            "Enter third integer 44\n",
            "223344\n"
          ],
          "name": "stdout"
        }
      ]
    },
    {
      "cell_type": "code",
      "metadata": {
        "id": "jsS6vMYeqrrs",
        "colab_type": "code",
        "colab": {
          "base_uri": "https://localhost:8080/",
          "height": 103
        },
        "outputId": "63be0ca5-1f2a-4cb3-f246-e1367b4c8aa0"
      },
      "source": [
        " #question 8\n",
        "D=int(input(\"Enter days\"))\n",
        "H=int(input(\"Enter hours\"))\n",
        "M=int(input(\"Enter minutes\"))\n",
        "S=int(input(\"Enter seconds\"))\n",
        "V=D*24*60*60+H*60*60+M*60+S\n",
        "print(\"Total seconds\",V)"
      ],
      "execution_count": null,
      "outputs": [
        {
          "output_type": "stream",
          "text": [
            "Enter days2\n",
            "Enter hours4\n",
            "Enter minutes4\n",
            "Enter seconds12\n",
            "Total seconds 187452\n"
          ],
          "name": "stdout"
        }
      ]
    },
    {
      "cell_type": "code",
      "metadata": {
        "id": "MXizpY3Xq2lY",
        "colab_type": "code",
        "colab": {
          "base_uri": "https://localhost:8080/",
          "height": 85
        },
        "outputId": "31771e52-70c8-42e8-b149-955889bb8f0f"
      },
      "source": [
        " #question 9\n",
        "l=int(input(\"Enter first integer \"))\n",
        "m=int(input(\"Enter second integer \"))\n",
        "n=int(input(\"Enter third integer \"))\n",
        "p=max(l,m,n)\n",
        "q=min(l,m,n)\n",
        "v=l+m+n-p-q\n",
        "print(p,q,v)"
      ],
      "execution_count": null,
      "outputs": [
        {
          "output_type": "stream",
          "text": [
            "Enter first integer 2\n",
            "Enter second integer 6\n",
            "Enter third integer 1\n",
            "6 1 2\n"
          ],
          "name": "stdout"
        }
      ]
    },
    {
      "cell_type": "code",
      "metadata": {
        "id": "kOcvIVSbrbO7",
        "colab_type": "code",
        "colab": {
          "base_uri": "https://localhost:8080/",
          "height": 105
        },
        "outputId": "7f157e57-efb9-4f3b-f134-0199c2b984a3"
      },
      "source": [
        " \n",
        "#question 10\n",
        "Y=int(input(\"Enter year: \"))\n",
        "M=int(input(\"Enter month: \"))\n",
        "D=int(input(\"Enter date: \"))\n",
        "if Y%4==0:\n",
        "    leapY=True\n",
        "else:\n",
        "    leapY=False\n",
        "if M==2:\n",
        "   if leapY:\n",
        "       M_length=29\n",
        "   else:\n",
        "       M_len=28\n",
        "elif M in(4,6,9,11):\n",
        "       M_length=30\n",
        "else: \n",
        "       M_length=31\n",
        "if D<M_length:\n",
        "   D=D+1\n",
        "else:\n",
        "   D=1\n",
        "   Y+=1\n",
        "print(f\"successor date is [YYYY-MM-DD] : {Y}-{M}-{D}\")"
      ],
      "execution_count": null,
      "outputs": [
        {
          "output_type": "stream",
          "text": [
            "Enter year: 2020\n",
            "Enter month: 7\n",
            "Enter date: 25\n",
            "successor date is [YYYY-MM-DD] : 2020-7-26\n"
          ],
          "name": "stdout"
        }
      ]
    },
    {
      "cell_type": "code",
      "metadata": {
        "id": "L_PiR8uytkH7",
        "colab_type": "code",
        "colab": {
          "base_uri": "https://localhost:8080/",
          "height": 34
        },
        "outputId": "0da9ba33-23af-4c54-9747-d28d93a1500a"
      },
      "source": [
        " #question 11\n",
        "def product_num(x1,x2,x3,x4,x5,x6,x7,x8):\n",
        "    return x1*x2*x3*x4*x5*x6*x7*x8\n",
        "product_num(45,3,2,89,72,1,10,7)"
      ],
      "execution_count": null,
      "outputs": [
        {
          "output_type": "execute_result",
          "data": {
            "text/plain": [
              "121111200"
            ]
          },
          "metadata": {
            "tags": []
          },
          "execution_count": 28
        }
      ]
    },
    {
      "cell_type": "code",
      "metadata": {
        "id": "mlJ6QW1htc-Z",
        "colab_type": "code",
        "colab": {
          "base_uri": "https://localhost:8080/",
          "height": 34
        },
        "outputId": "d4e6371b-fffc-4a2e-c8cb-1b379d93e84f"
      },
      "source": [
        " #question 12\n",
        "def Num_list(x1,x2,x3,x4,x5,x6):\n",
        "     return x1+x2,x2+x3,x3+x4,x4+x5,x5+x6\n",
        "Num_list(5,6,8,34,89,1)"
      ],
      "execution_count": null,
      "outputs": [
        {
          "output_type": "execute_result",
          "data": {
            "text/plain": [
              "(11, 14, 42, 123, 90)"
            ]
          },
          "metadata": {
            "tags": []
          },
          "execution_count": 27
        }
      ]
    },
    {
      "cell_type": "code",
      "metadata": {
        "id": "yxbIV7jqsyAf",
        "colab_type": "code",
        "colab": {
          "base_uri": "https://localhost:8080/",
          "height": 34
        },
        "outputId": "96a8a330-e5ad-4f05-c640-a30c30a1eb69"
      },
      "source": [
        " #question 13\n",
        "def Num_tuple(x1,x2,x3,x4,x5,x6):\n",
        "     return x1,x1*x2,x1*x2*x3,x1*x2*x3*x4,x1*x2*x3*x4*x5,x1*x2*x3*x4*x5*x6\n",
        "Num_tuple(5,6,8,3,9,1)"
      ],
      "execution_count": null,
      "outputs": [
        {
          "output_type": "execute_result",
          "data": {
            "text/plain": [
              "(5, 30, 240, 720, 6480, 6480)"
            ]
          },
          "metadata": {
            "tags": []
          },
          "execution_count": 23
        }
      ]
    },
    {
      "cell_type": "code",
      "metadata": {
        "id": "BJMQ3XdIsYLL",
        "colab_type": "code",
        "colab": {
          "base_uri": "https://localhost:8080/",
          "height": 51
        },
        "outputId": "04f016ad-4ca8-4c77-e1e8-3e46cb719d92"
      },
      "source": [
        " #question 14\n",
        "a=int(input(\"Enter the number \"))\n",
        "newlist=[]\n",
        "b=0\n",
        "while a>0 :\n",
        "    x=a%10\n",
        "    a=a//10\n",
        "    b=b*10+x\n",
        "while b>0 :\n",
        "    x=b%10\n",
        "    b=b//10\n",
        "    newlist.append(x)\n",
        "print(newlist)"
      ],
      "execution_count": null,
      "outputs": [
        {
          "output_type": "stream",
          "text": [
            "Enter the number 3079615\n",
            "[3, 0, 7, 9, 6, 1, 5]\n"
          ],
          "name": "stdout"
        }
      ]
    },
    {
      "cell_type": "code",
      "metadata": {
        "id": "C6ybM92PsEVi",
        "colab_type": "code",
        "colab": {
          "base_uri": "https://localhost:8080/",
          "height": 51
        },
        "outputId": "ff4aa0f9-3388-49d7-8c91-dd4dc92373c4"
      },
      "source": [
        " #question 15\n",
        "q=input(\"Enter a palindrome \")\n",
        "list1=[]\n",
        "list2=[]\n",
        "index=0\n",
        "for i in range(0,len(q)-1):\n",
        "   for j in range(i+1,len(q)+1):\n",
        "       if j-i>1:\n",
        "          p=q[i:j]\n",
        "          if (p==p[::-1]):\n",
        "             list1.append(q[i:j])\n",
        "             list2.append(len(q[i:j]))\n",
        "maximum=max(list2)\n",
        "for i in list2:\n",
        "    if i==maximum:\n",
        "       print(list1[index])\n",
        "    else:\n",
        "       index=index+1"
      ],
      "execution_count": null,
      "outputs": [
        {
          "output_type": "stream",
          "text": [
            "Enter a palindrome madam\n",
            "madam\n"
          ],
          "name": "stdout"
        }
      ]
    },
    {
      "cell_type": "code",
      "metadata": {
        "id": "5YCv8jFtrtwy",
        "colab_type": "code",
        "colab": {
          "base_uri": "https://localhost:8080/",
          "height": 88
        },
        "outputId": "05b80af8-78b3-423b-fc13-93a1e35a4481"
      },
      "source": [
        " \n",
        "#question 16\n",
        "p=input(\"Enter the binary number of length 10 \")\n",
        "q=input(\"Enter the binary number of length 5 \")\n",
        "if q[:] in p[:] :\n",
        "    print (1)\n",
        "else:\n",
        "    print (0)"
      ],
      "execution_count": null,
      "outputs": [
        {
          "output_type": "stream",
          "text": [
            "Enter the binary number of length 10 101001010101\n",
            "Enter the binary number of length 5 10101\n",
            "1\n"
          ],
          "name": "stdout"
        }
      ]
    }
  ]
}